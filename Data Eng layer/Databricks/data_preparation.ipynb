{
 "cells": [
  {
   "cell_type": "markdown",
   "metadata": {
    "application/vnd.databricks.v1+cell": {
     "cellMetadata": {},
     "inputWidgets": {},
     "nuid": "f1bab430-81b3-4fcd-972a-6ef7ce144949",
     "showTitle": false,
     "title": ""
    }
   },
   "source": [
    "# Raw data preparation"
   ]
  },
  {
   "cell_type": "markdown",
   "metadata": {
    "application/vnd.databricks.v1+cell": {
     "cellMetadata": {},
     "inputWidgets": {},
     "nuid": "b3dd5843-556e-42ec-b6d8-279fdb9e8873",
     "showTitle": false,
     "title": ""
    }
   },
   "source": [
    "## Creating directories and loading the initial file"
   ]
  },
  {
   "cell_type": "code",
   "execution_count": 0,
   "metadata": {
    "application/vnd.databricks.v1+cell": {
     "cellMetadata": {
      "byteLimit": 2048000,
      "rowLimit": 10000
     },
     "inputWidgets": {},
     "nuid": "9b7293d5-9068-4605-bd94-ce178909c28c",
     "showTitle": false,
     "title": ""
    }
   },
   "outputs": [
    {
     "name": "stdout",
     "output_type": "stream",
     "text": [
      "Out[1]: True"
     ]
    }
   ],
   "source": [
    "\n",
    "# Create directory to store the raw data\n",
    "dbutils.fs.mkdirs('/FileStore/tables/SuperStoreSales')\n",
    "\n",
    "# Create directory to save processed tables\n",
    "dbutils.fs.mkdirs('/FileStore/tables/dimensions')"
   ]
  },
  {
   "cell_type": "code",
   "execution_count": 0,
   "metadata": {
    "application/vnd.databricks.v1+cell": {
     "cellMetadata": {
      "byteLimit": 2048000,
      "rowLimit": 10000
     },
     "inputWidgets": {},
     "nuid": "c93bec63-3e66-443e-9b46-e1643cde6a95",
     "showTitle": false,
     "title": ""
    }
   },
   "outputs": [],
   "source": [
    "# Read raw data into a spark dataframe\n",
    "\n",
    "supersales = spark.read.\\\n",
    "    format(\"csv\")\\\n",
    "    .option(\"header\", \"true\")\\\n",
    "    .option(\"inferSchema\", \"true\")\\\n",
    "    .option(\"delimiter\", \";\")\\\n",
    "    .load(\"dbfs:/FileStore/tables/SuperStoreSales/Superstore.csv\")\n",
    "    "
   ]
  },
  {
   "cell_type": "markdown",
   "metadata": {
    "application/vnd.databricks.v1+cell": {
     "cellMetadata": {},
     "inputWidgets": {},
     "nuid": "aeccb5c6-4f58-43f3-a6e7-f99733f23e5d",
     "showTitle": false,
     "title": ""
    }
   },
   "source": [
    "## Identifying dimensions and loading in parquet files"
   ]
  },
  {
   "cell_type": "code",
   "execution_count": 0,
   "metadata": {
    "application/vnd.databricks.v1+cell": {
     "cellMetadata": {
      "byteLimit": 2048000,
      "rowLimit": 10000
     },
     "inputWidgets": {},
     "nuid": "27027775-124c-41b0-a8f7-cbb54e1b1ad8",
     "showTitle": false,
     "title": ""
    }
   },
   "outputs": [],
   "source": [
    "# Dividing the SuperStores dataset into dataframes that will give rise to the Dimension and Fact tables\n",
    "\n",
    "# CUSTOMER dimension\n",
    "\n",
    "df_customer = supersales.select('Customer ID', 'Customer Name', 'Segment').distinct()\n",
    "\n",
    "df_customer.write \\\n",
    "  .format('parquet') \\\n",
    "  .mode(\"overwrite\") \\\n",
    "  .save(\"/FileStore/tables/dimensions/customersParquet\")\n"
   ]
  },
  {
   "cell_type": "code",
   "execution_count": 0,
   "metadata": {
    "application/vnd.databricks.v1+cell": {
     "cellMetadata": {
      "byteLimit": 2048000,
      "rowLimit": 10000
     },
     "inputWidgets": {},
     "nuid": "f359ea42-9fd3-478f-a4ae-4c41951c83fd",
     "showTitle": false,
     "title": ""
    }
   },
   "outputs": [],
   "source": [
    "# ADDRESS dimension\n",
    "\n",
    "df_address = supersales.select('Postal Code', 'Country', 'City', 'State', 'Region').distinct()\n",
    "df_address = df_address.dropna(subset='Postal Code')\n",
    "\n",
    "df_address_renamed = df_address.withColumnRenamed(\"Postal Code\", \"Postal_code\")\n",
    "\n",
    "df_address_renamed.write \\\n",
    "  .format('parquet') \\\n",
    "  .mode(\"overwrite\") \\\n",
    "  .save(\"/FileStore/tables/dimensions/addressParquet\")\n"
   ]
  },
  {
   "cell_type": "code",
   "execution_count": 0,
   "metadata": {
    "application/vnd.databricks.v1+cell": {
     "cellMetadata": {
      "byteLimit": 2048000,
      "rowLimit": 10000
     },
     "inputWidgets": {},
     "nuid": "d3180ed1-9a3c-4583-b70c-1e407f4ab18e",
     "showTitle": false,
     "title": ""
    }
   },
   "outputs": [],
   "source": [
    "# PRODUCT dimension\n",
    "\n",
    "df_products = supersales.select('Product ID', 'Category', 'Sub-Category', 'Product Name').distinct()\n",
    "\n",
    "df_products_renamed = df_products.withColumnRenamed(\"Product ID\", \"Product_ID\")\\\n",
    "                                 .withColumnRenamed(\"Sub-Category\", \"Sub_Category\")\\\n",
    "                                 .withColumnRenamed(\"Product Name\", \"Product_Name\")\n",
    "\n",
    "df_products_renamed.write \\\n",
    "  .format('parquet') \\\n",
    "  .mode(\"overwrite\") \\\n",
    "  .save(\"/FileStore/tables/dimensions/productsParquet\")"
   ]
  },
  {
   "cell_type": "code",
   "execution_count": 0,
   "metadata": {
    "application/vnd.databricks.v1+cell": {
     "cellMetadata": {
      "byteLimit": 2048000,
      "rowLimit": 10000
     },
     "inputWidgets": {},
     "nuid": "137b7b37-57aa-46be-9d2f-1c0f6b4323ec",
     "showTitle": false,
     "title": ""
    }
   },
   "outputs": [],
   "source": [
    "# FACT sales\n",
    "\n",
    "from pyspark.sql.functions import regexp_replace, col\n",
    "\n",
    "\n",
    "df_sales = supersales.select('Row ID', 'Order ID', 'Order Date', 'Ship Date', 'Ship Mode', 'Customer ID', 'Postal Code',\\\n",
    "                             'Product ID', 'Sales', 'Quantity', 'Discount', 'Profit' )\n",
    "\n",
    "\n",
    "df_sales_converted = df_sales.withColumn(\"Sales\", regexp_replace(\"Sales\", \",\", \".\"))\\\n",
    "                             .withColumn(\"Discount\", regexp_replace(\"Discount\", \",\", \".\"))\\\n",
    "                             .withColumn(\"Profit\", regexp_replace(\"Profit\", \",\", \".\"))\\\n",
    "                               \n",
    "df_sales_renamed = df_sales_converted.select(\n",
    "    [col(c).alias(c.replace(\" \", \"_\")) if \" \" in c else col(c) for c in df_sales_converted.columns]\n",
    ")\n",
    "\n",
    "df_sales_final = df_sales_renamed.withColumn('Sales', df_sales_converted.Sales.cast('decimal(10,2)'))\\\n",
    "                                 .withColumn('Discount', df_sales_converted.Discount.cast('decimal(10,2)'))\\\n",
    "                                 .withColumn('Profit', df_sales_converted.Profit.cast('decimal(10,2)'))                        \n",
    "\n",
    "df_sales_final.write \\\n",
    "  .format('parquet') \\\n",
    "  .mode(\"overwrite\") \\\n",
    "  .save(\"/FileStore/tables/dimensions/salesParquet\")"
   ]
  },
  {
   "cell_type": "markdown",
   "metadata": {
    "application/vnd.databricks.v1+cell": {
     "cellMetadata": {},
     "inputWidgets": {},
     "nuid": "c5737721-2b53-4715-bfd8-c373b730d700",
     "showTitle": false,
     "title": ""
    }
   },
   "source": [
    "## Snowflake database connection setup"
   ]
  },
  {
   "cell_type": "code",
   "execution_count": 0,
   "metadata": {
    "application/vnd.databricks.v1+cell": {
     "cellMetadata": {
      "byteLimit": 2048000,
      "rowLimit": 10000
     },
     "inputWidgets": {},
     "nuid": "503d5043-79c4-4124-92d0-09ef65b65f36",
     "showTitle": false,
     "title": ""
    }
   },
   "outputs": [],
   "source": [
    "# Options for connecting to Snowflake\n",
    "\n",
    "options = {\n",
    "  \"sfUrl\": \"https://qjyzviq-wj82064.snowflakecomputing.com\",\n",
    "  \"sfUser\": \"********\",\n",
    "  \"sfPassword\": \"**********\",\n",
    "  \"sfDatabase\": \"SUPERSALESSTORE\",\n",
    "  \"sfSchema\": \"STAGING\",\n",
    "  \"sfWarehouse\": \"COMPUTE_WH\"\n",
    "}"
   ]
  },
  {
   "cell_type": "code",
   "execution_count": 0,
   "metadata": {
    "application/vnd.databricks.v1+cell": {
     "cellMetadata": {
      "byteLimit": 2048000,
      "rowLimit": 10000
     },
     "inputWidgets": {},
     "nuid": "0ddb3db0-1672-4c8e-a3f9-ff746064eb1d",
     "showTitle": false,
     "title": ""
    }
   },
   "outputs": [],
   "source": [
    "# Function for inserting data into the STAGING tables of the Snowflake database\n",
    "\n",
    "def write_to_snowflake(df, table_name):\n",
    "  try:\n",
    "    df.write \\\n",
    "      .format(\"snowflake\") \\\n",
    "      .options(**options) \\\n",
    "      .option(\"dbtable\",table_name)\\\n",
    "      .mode(\"append\") \\\n",
    "      .save()\n",
    "    return True\n",
    "  \n",
    "  except Exception as e:\n",
    "    return e"
   ]
  },
  {
   "cell_type": "markdown",
   "metadata": {
    "application/vnd.databricks.v1+cell": {
     "cellMetadata": {},
     "inputWidgets": {},
     "nuid": "499de75f-7e66-4bf5-a116-f6dc55200ea6",
     "showTitle": false,
     "title": ""
    }
   },
   "source": [
    "## Loading parquet files and preparing them for insertion."
   ]
  },
  {
   "cell_type": "code",
   "execution_count": 0,
   "metadata": {
    "application/vnd.databricks.v1+cell": {
     "cellMetadata": {
      "byteLimit": 2048000,
      "rowLimit": 10000
     },
     "inputWidgets": {},
     "nuid": "b6528dc6-64d7-4194-bf32-e3e3d8ed1d9a",
     "showTitle": false,
     "title": ""
    }
   },
   "outputs": [],
   "source": [
    "# Sending tables to Snowflake's STG database\n",
    "\n",
    "customers = spark.read.parquet(\"/FileStore/tables/dimensions/customersParquet\")\n",
    "address = spark.read.parquet(\"/FileStore/tables/dimensions/addressParquet\")\n",
    "products = spark.read.parquet(\"/FileStore/tables/dimensions/productsParquet\")\n",
    "sales = spark.read.parquet(\"/FileStore/tables/dimensions/salesParquet\")\n",
    "\n",
    "tables_to_insert = {\n",
    "    'ADDRESS': address,\n",
    "    'CUSTOMERS': customers,\n",
    "    'PRODUCTS': products,\n",
    "    'SALES': sales\n",
    "}"
   ]
  },
  {
   "cell_type": "markdown",
   "metadata": {
    "application/vnd.databricks.v1+cell": {
     "cellMetadata": {},
     "inputWidgets": {},
     "nuid": "6d00836a-3af4-43b3-b2ad-f1beca3255dd",
     "showTitle": false,
     "title": ""
    }
   },
   "source": [
    "## Perform data insertion"
   ]
  },
  {
   "cell_type": "code",
   "execution_count": 0,
   "metadata": {
    "application/vnd.databricks.v1+cell": {
     "cellMetadata": {
      "byteLimit": 2048000,
      "rowLimit": 10000
     },
     "inputWidgets": {},
     "nuid": "888de78e-4c02-41b5-939e-96659fd88902",
     "showTitle": false,
     "title": ""
    }
   },
   "outputs": [],
   "source": [
    "for table, df in tables_to_insert.items():\n",
    "    write_to_snowflake(df, table)\n",
    "    "
   ]
  }
 ],
 "metadata": {
  "application/vnd.databricks.v1+notebook": {
   "dashboards": [],
   "environmentMetadata": null,
   "language": "python",
   "notebookMetadata": {
    "pythonIndentUnit": 4
   },
   "notebookName": "SuperStoreSales data modeling",
   "widgets": {}
  },
  "language_info": {
   "name": "python"
  }
 },
 "nbformat": 4,
 "nbformat_minor": 0
}
